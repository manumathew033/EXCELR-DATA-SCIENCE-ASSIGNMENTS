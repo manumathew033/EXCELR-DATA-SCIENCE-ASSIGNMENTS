{
  "nbformat": 4,
  "nbformat_minor": 0,
  "metadata": {
    "colab": {
      "provenance": []
    },
    "kernelspec": {
      "name": "python3",
      "display_name": "Python 3"
    },
    "language_info": {
      "name": "python"
    }
  },
  "cells": [
    {
      "cell_type": "code",
      "execution_count": 4,
      "metadata": {
        "id": "ASr4iiynTq6h"
      },
      "outputs": [],
      "source": [
        "import numpy as np\n",
        "from scipy.stats import t"
      ]
    },
    {
      "cell_type": "code",
      "source": [
        "durability_data = [1.13, 1.55, 1.43, 0.92, 1.25, 1.36, 1.32, 0.85, 1.07, 1.48, 1.20, 1.33, 1.18, 1.22, 1.29]\n",
        "sample_size = len(durability_data)\n",
        "sample_mean = np.mean(durability_data)\n",
        "sample_std = np.std(durability_data, ddof=1)"
      ],
      "metadata": {
        "id": "z5T-cJrkTvym"
      },
      "execution_count": 5,
      "outputs": []
    },
    {
      "cell_type": "markdown",
      "source": [
        "A.) 99% Confidence Interval using sample standard deviation"
      ],
      "metadata": {
        "id": "GRmdxE1iU354"
      }
    },
    {
      "cell_type": "code",
      "source": [
        "alpha = 0.01  # 1 - confidence level\n",
        "t_critical = t.ppf(1 - alpha/2, df=sample_size - 1)\n",
        "margin_of_error = t_critical * (sample_std / np.sqrt(sample_size))\n",
        "confidence_interval_a = (sample_mean - margin_of_error, sample_mean + margin_of_error)\n",
        "print(\"99% Confidence Interval using Sample Standard Deviation:\")\n",
        "print(\"Confidence Interval:\", confidence_interval_a)"
      ],
      "metadata": {
        "colab": {
          "base_uri": "https://localhost:8080/"
        },
        "id": "fTdCtaJ5T4bb",
        "outputId": "230bedad-c59a-4907-9a74-9ca510e5882f"
      },
      "execution_count": 6,
      "outputs": [
        {
          "output_type": "stream",
          "name": "stdout",
          "text": [
            "99% Confidence Interval using Sample Standard Deviation:\n",
            "Confidence Interval: (1.090197338451367, 1.3871359948819662)\n"
          ]
        }
      ]
    },
    {
      "cell_type": "markdown",
      "source": [
        "B.) 99% Confidence Interval using known population standard deviation"
      ],
      "metadata": {
        "id": "XPaZjQJaUuL4"
      }
    },
    {
      "cell_type": "code",
      "source": [
        "population_std = 0.2\n",
        "margin_of_error = t_critical * (population_std / np.sqrt(sample_size))\n",
        "confidence_interval_b = (sample_mean - margin_of_error, sample_mean + margin_of_error)\n",
        "print(\"\\n99% Confidence Interval using Known Population Standard Deviation:\")\n",
        "print(\"Confidence Interval:\", confidence_interval_b)"
      ],
      "metadata": {
        "colab": {
          "base_uri": "https://localhost:8080/"
        },
        "id": "H5ZrkCN1UIeJ",
        "outputId": "ed807cca-34ae-4ec3-ee88-6debf959a01f"
      },
      "execution_count": 7,
      "outputs": [
        {
          "output_type": "stream",
          "name": "stdout",
          "text": [
            "\n",
            "99% Confidence Interval using Known Population Standard Deviation:\n",
            "Confidence Interval: (1.0849431688867082, 1.392390164446625)\n"
          ]
        }
      ]
    }
  ]
}